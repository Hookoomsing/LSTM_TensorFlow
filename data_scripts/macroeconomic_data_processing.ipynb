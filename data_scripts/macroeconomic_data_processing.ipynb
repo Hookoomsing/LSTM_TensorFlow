{
 "cells": [
  {
   "cell_type": "code",
   "execution_count": 1,
   "id": "f2e643e2",
   "metadata": {},
   "outputs": [
    {
     "name": "stdout",
     "output_type": "stream",
     "text": [
      "Data has been successfully saved to CSV files.\n"
     ]
    }
   ],
   "source": [
    "import pandas as pd\n",
    "from fredapi import Fred\n",
    "\n",
    "# Initialize the Fred API \n",
    "fred = Fred(api_key='9390c3b48fba8e99df33843071015842')\n",
    "\n",
    "# Define the date range\n",
    "start_date = '1999-12-01'\n",
    "end_date = '2024-01-01'\n",
    "\n",
    "# Fetch the data from FRED\n",
    "gdp = fred.get_series('GDP', start_date, end_date)\n",
    "interest_rates = fred.get_series('EFFR', start_date, end_date)\n",
    "inflation_rate = fred.get_series('CORESTICKM159SFRBATL', start_date, end_date)\n",
    "\n",
    "# Convert the data to DataFrames\n",
    "gdp_df = gdp.to_frame(name='GDP')\n",
    "gdp_df.index.name = 'Date'\n",
    "\n",
    "interest_rates_df = interest_rates.to_frame(name='Interest Rate')\n",
    "interest_rates_df.index.name = 'Date'\n",
    "\n",
    "inflation_rate_df = inflation_rate.to_frame(name='Inflation Rate')\n",
    "inflation_rate_df.index.name = 'Date'\n",
    "\n",
    "# Save the DataFrames to CSV files\n",
    "output_folder = '/Users/hanshookoomsing/Documents/undergraduate_project/LSTM_TensorFlow'\n",
    "\n",
    "gdp_df.to_csv(f'{output_folder}/gdp.csv')\n",
    "interest_rates_df.to_csv(f'{output_folder}/interest_rates.csv')\n",
    "inflation_rate_df.to_csv(f'{output_folder}/inflation_rate.csv')\n",
    "\n",
    "print(\"Data has been successfully saved to CSV files.\")"
   ]
  },
  {
   "cell_type": "code",
   "execution_count": 2,
   "id": "41f4a20b",
   "metadata": {},
   "outputs": [
    {
     "name": "stdout",
     "output_type": "stream",
     "text": [
      "Interest Rates - Missing Values:\n",
      "Interest Rate    231\n",
      "dtype: int64\n",
      "\n",
      "Inflation Rate - Missing Values:\n",
      "Inflation Rate    0\n",
      "dtype: int64\n",
      "\n",
      "Interest Rates - Duplicate Values:\n",
      "5623\n",
      "\n",
      "Inflation Rate - Duplicate Values:\n",
      "0\n"
     ]
    }
   ],
   "source": [
    "import pandas as pd\n",
    "\n",
    "# Define the file paths\n",
    "interest_rates_file = '/Users/hanshookoomsing/Documents/undergraduate_project/LSTM_TensorFlow/interest_rates.csv'\n",
    "inflation_rate_file = '/Users/hanshookoomsing/Documents/undergraduate_project/LSTM_TensorFlow/inflation_rate.csv'\n",
    "\n",
    "# Load the data\n",
    "interest_rates_df = pd.read_csv(interest_rates_file, parse_dates=['Date'], index_col='Date')\n",
    "inflation_rate_df = pd.read_csv(inflation_rate_file, parse_dates=['Date'], index_col='Date')\n",
    "\n",
    "# Check for missing values\n",
    "print(\"Interest Rates - Missing Values:\")\n",
    "print(interest_rates_df.isnull().sum())\n",
    "\n",
    "print(\"\\nInflation Rate - Missing Values:\")\n",
    "print(inflation_rate_df.isnull().sum())\n",
    "\n",
    "# Check for duplicate values\n",
    "print(\"\\nInterest Rates - Duplicate Values:\")\n",
    "print(interest_rates_df.duplicated().sum())\n",
    "\n",
    "print(\"\\nInflation Rate - Duplicate Values:\")\n",
    "print(inflation_rate_df.duplicated().sum())\n"
   ]
  },
  {
   "cell_type": "code",
   "execution_count": 3,
   "id": "5d209918",
   "metadata": {},
   "outputs": [
    {
     "name": "stdout",
     "output_type": "stream",
     "text": [
      "Interest Rates DataFrame:\n",
      "        Date  Interest Rate\n",
      "0 2000-07-03           7.03\n",
      "1 2000-07-04            NaN\n",
      "2 2000-07-05           6.52\n",
      "3 2000-07-06           6.51\n",
      "4 2000-07-07           6.42\n",
      "\n",
      "Inflation Rates DataFrame:\n",
      "        Date  Inflation Rate\n",
      "0 1999-12-01        2.167848\n",
      "1 2000-01-01        2.335519\n",
      "2 2000-02-01        2.379221\n",
      "3 2000-03-01        2.483286\n",
      "4 2000-04-01        2.409239\n",
      "Missing values after merge:\n",
      "Date                 0\n",
      "Interest Rate      230\n",
      "Inflation Rate    5929\n",
      "dtype: int64\n",
      "Merged data saved to /Users/hanshookoomsing/Documents/undergraduate_project/LSTM_TensorFlow/merged_inflation_interest.csv\n"
     ]
    }
   ],
   "source": [
    "import pandas as pd\n",
    "\n",
    "# File paths\n",
    "interest_rates_path = '/Users/hanshookoomsing/Documents/undergraduate_project/LSTM_TensorFlow/interest_rates.csv'\n",
    "inflation_rates_path = '/Users/hanshookoomsing/Documents/undergraduate_project/LSTM_TensorFlow/inflation_rate.csv'\n",
    "output_path = '/Users/hanshookoomsing/Documents/undergraduate_project/LSTM_TensorFlow/merged_inflation_interest.csv'\n",
    "\n",
    "# Load datasets\n",
    "interest_rates_df = pd.read_csv(interest_rates_path, parse_dates=['Date'])\n",
    "inflation_rates_df = pd.read_csv(inflation_rates_path, parse_dates=['Date'])\n",
    "\n",
    "# Check the first few rows of each dataframe to understand the structure\n",
    "print(\"Interest Rates DataFrame:\")\n",
    "print(interest_rates_df.head())\n",
    "print(\"\\nInflation Rates DataFrame:\")\n",
    "print(inflation_rates_df.head())\n",
    "\n",
    "# Ensure the date ranges align with the stock data date range\n",
    "start_date = '2000-01-04'\n",
    "end_date = '2023-12-31'\n",
    "\n",
    "interest_rates_df = interest_rates_df[(interest_rates_df['Date'] >= start_date) & (interest_rates_df['Date'] <= end_date)]\n",
    "inflation_rates_df = inflation_rates_df[(inflation_rates_df['Date'] >= start_date) & (inflation_rates_df['Date'] <= end_date)]\n",
    "\n",
    "# Merge interest rates and inflation rates on the 'Date' column\n",
    "merged_df = interest_rates_df.merge(inflation_rates_df, on='Date', how='left')\n",
    "\n",
    "# Check for any missing values after the merge\n",
    "print(\"Missing values after merge:\")\n",
    "print(merged_df.isna().sum())\n",
    "\n",
    "# Fill missing values if necessary (optional step)\n",
    "# merged_df.fillna(method='ffill', inplace=True)  # Forward fill to handle any missing values\n",
    "\n",
    "# Save the merged data to a CSV file\n",
    "merged_df.to_csv(output_path, index=False)\n",
    "\n",
    "print(f\"Merged data saved to {output_path}\")\n"
   ]
  },
  {
   "cell_type": "code",
   "execution_count": null,
   "id": "8118961f",
   "metadata": {},
   "outputs": [],
   "source": []
  }
 ],
 "metadata": {
  "kernelspec": {
   "display_name": "Python 3 (ipykernel)",
   "language": "python",
   "name": "python3"
  },
  "language_info": {
   "codemirror_mode": {
    "name": "ipython",
    "version": 3
   },
   "file_extension": ".py",
   "mimetype": "text/x-python",
   "name": "python",
   "nbconvert_exporter": "python",
   "pygments_lexer": "ipython3",
   "version": "3.11.3"
  }
 },
 "nbformat": 4,
 "nbformat_minor": 5
}
