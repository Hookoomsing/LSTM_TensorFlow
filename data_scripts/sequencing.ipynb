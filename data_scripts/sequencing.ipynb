{
 "cells": [
  {
   "cell_type": "code",
   "execution_count": 1,
   "id": "70ddb0cb",
   "metadata": {},
   "outputs": [
    {
     "name": "stdout",
     "output_type": "stream",
     "text": [
      "Saved X_sequences, y_labels, and dates to the specified directory.\n"
     ]
    }
   ],
   "source": [
    "import pandas as pd\n",
    "import numpy as np\n",
    "\n",
    "# Load the standardized dataset\n",
    "file_path = '/Users/hanshookoomsing/Documents/undergraduate_project/LSTM_TensorFlow/standardized.csv'\n",
    "data = pd.read_csv(file_path)\n",
    "\n",
    "# Ensure the 'Date' column is in date format\n",
    "data['Date'] = pd.to_datetime(data['Date'])\n",
    "\n",
    "# Sort data by date\n",
    "data = data.sort_values(by='Date')\n",
    "\n",
    "# Set the sequence length\n",
    "sequence_length = 28\n",
    "\n",
    "# Function to create sequences\n",
    "def create_sequences(data, sequence_length):\n",
    "    sequences = []\n",
    "    labels = []\n",
    "    dates = []\n",
    "    for i in range(len(data) - sequence_length):\n",
    "        sequence = data.iloc[i:i + sequence_length]\n",
    "        label = data.iloc[i + sequence_length]['Close']\n",
    "        date = data.iloc[i + sequence_length]['Date']\n",
    "        sequences.append(sequence.drop(columns=['Date', 'Stock']).values)\n",
    "        labels.append(label)\n",
    "        dates.append(date)\n",
    "    return np.array(sequences), np.array(labels), np.array(dates)\n",
    "\n",
    "# Create sequences for each stock\n",
    "all_sequences = []\n",
    "all_labels = []\n",
    "all_dates = []\n",
    "\n",
    "for stock in data['Stock'].unique():\n",
    "    stock_data = data[data['Stock'] == stock]\n",
    "    sequences, labels, dates = create_sequences(stock_data, sequence_length)\n",
    "    all_sequences.append(sequences)\n",
    "    all_labels.append(labels)\n",
    "    all_dates.append(dates)\n",
    "\n",
    "# Combine all sequences, labels, and dates\n",
    "X = np.concatenate(all_sequences, axis=0)\n",
    "y = np.concatenate(all_labels, axis=0)\n",
    "dates = np.concatenate(all_dates, axis=0)\n",
    "\n",
    "# Save the sequences, labels, and dates\n",
    "np.save('/Users/hanshookoomsing/Documents/undergraduate_project/LSTM_TensorFlow/X_sequences.npy', X)\n",
    "np.save('/Users/hanshookoomsing/Documents/undergraduate_project/LSTM_TensorFlow/y_labels.npy', y)\n",
    "np.save('/Users/hanshookoomsing/Documents/undergraduate_project/LSTM_TensorFlow/dates.npy', dates)\n",
    "\n",
    "# Verify saved files\n",
    "print(\"Saved X_sequences, y_labels, and dates to the specified directory.\")"
   ]
  },
  {
   "cell_type": "code",
   "execution_count": null,
   "id": "9f34edce",
   "metadata": {},
   "outputs": [],
   "source": []
  }
 ],
 "metadata": {
  "kernelspec": {
   "display_name": "Python 3 (ipykernel)",
   "language": "python",
   "name": "python3"
  },
  "language_info": {
   "codemirror_mode": {
    "name": "ipython",
    "version": 3
   },
   "file_extension": ".py",
   "mimetype": "text/x-python",
   "name": "python",
   "nbconvert_exporter": "python",
   "pygments_lexer": "ipython3",
   "version": "3.11.3"
  }
 },
 "nbformat": 4,
 "nbformat_minor": 5
}
