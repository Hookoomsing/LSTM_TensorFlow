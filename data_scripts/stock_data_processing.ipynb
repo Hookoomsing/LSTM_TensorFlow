{
 "cells": [
  {
   "cell_type": "code",
   "execution_count": 4,
   "id": "50c36bb2",
   "metadata": {},
   "outputs": [
    {
     "name": "stderr",
     "output_type": "stream",
     "text": [
      "[*********************100%%**********************]  8 of 8 completed\n"
     ]
    }
   ],
   "source": [
    "import yfinance as yf\n",
    "import pandas as pd\n",
    "\n",
    "# Directory where the file will be saved\n",
    "directory = '/Users/hanshookoomsing/Documents/undergraduate_project/LSTM_TensorFlow'\n",
    "\n",
    "# List of tickers for the companies on NYSE and NASDAQ\n",
    "tickers = [\n",
    "    'F', 'JPM', 'MS', 'WFC',  # NYSE tickers\n",
    "    'AAPL', 'AMZN', 'MSFT', 'CSCO',  # NASDAQ tickers\n",
    "]\n",
    "\n",
    "# Start and end dates for the data\n",
    "start_date = '2001-01-04'\n",
    "end_date = '2023-12-31'\n",
    "\n",
    "# Download stock data\n",
    "stock_data = yf.download(tickers, start=start_date, end=end_date)['Close']\n",
    "\n",
    "# Turn dates into Column\n",
    "stock_data = stock_data.reset_index()\n",
    "\n",
    "# Melt the DataFrame to make it long format\n",
    "stock_data_long = stock_data.melt(id_vars=['Date'], var_name='Stock', value_name='Close')\n",
    "\n",
    "# Sort the data by Date\n",
    "stock_data_long = stock_data_long.sort_values(by='Date')\n",
    "\n",
    "# Save the data in the raw_data folder\n",
    "stock_data_long.to_csv(f'{directory}/stocks.csv', index=False)\n"
   ]
  },
  {
   "cell_type": "code",
   "execution_count": 5,
   "id": "a1f7b62a",
   "metadata": {},
   "outputs": [
    {
     "name": "stdout",
     "output_type": "stream",
     "text": [
      "Missing values in each column:\n",
      "Date     0\n",
      "Stock    0\n",
      "Close    0\n",
      "dtype: int64\n",
      "All dates aligned: True\n",
      "Number of stock entries for each year:\n",
      "Year\n",
      "2001    1968\n",
      "2002    2016\n",
      "2003    2016\n",
      "2004    2016\n",
      "2005    2016\n",
      "2006    2008\n",
      "2007    2008\n",
      "2008    2024\n",
      "2009    2016\n",
      "2010    2016\n",
      "2011    2016\n",
      "2012    2000\n",
      "2013    2016\n",
      "2014    2016\n",
      "2015    2016\n",
      "2016    2016\n",
      "2017    2008\n",
      "2018    2008\n",
      "2019    2016\n",
      "2020    2024\n",
      "2021    2016\n",
      "2022    2008\n",
      "2023    2000\n",
      "dtype: int64\n"
     ]
    }
   ],
   "source": [
    "import pandas as pd\n",
    "\n",
    "# Load the saved CSV file\n",
    "file_path = '/Users/hanshookoomsing/Documents/undergraduate_project/LSTM_TensorFlow/stocks.csv'\n",
    "stock_data_long = pd.read_csv(file_path)\n",
    "\n",
    "# Ensure the 'Date' column is in date format\n",
    "stock_data_long['Date'] = pd.to_datetime(stock_data_long['Date'])\n",
    "\n",
    "# Ensure the 'Close' column is in numeric format (float)\n",
    "stock_data_long['Close'] = pd.to_numeric(stock_data_long['Close'], errors='coerce')\n",
    "\n",
    "# Save the updated DataFrame back to the CSV file\n",
    "stock_data_long.to_csv(file_path, index=False)\n",
    "\n",
    "# Check for any missing values\n",
    "missing_values = stock_data_long.isnull().sum()\n",
    "print(\"Missing values in each column:\")\n",
    "print(missing_values)\n",
    "\n",
    "# Check if the dates for all the stocks are aligned\n",
    "date_counts = stock_data_long['Date'].value_counts().sort_index()\n",
    "\n",
    "# Print if all dates have the same number of entries\n",
    "all_dates_aligned = (date_counts == len(stock_data_long['Stock'].unique())).all()\n",
    "print(f\"All dates aligned: {all_dates_aligned}\")\n",
    "\n",
    "# Count the number of stock entries for each year\n",
    "stock_data_long['Year'] = stock_data_long['Date'].dt.year\n",
    "entries_per_year = stock_data_long.groupby('Year').size()\n",
    "\n",
    "# Print the number of stock entries for each year\n",
    "print(\"Number of stock entries for each year:\")\n",
    "print(entries_per_year)"
   ]
  }
 ],
 "metadata": {
  "kernelspec": {
   "display_name": "Python 3 (ipykernel)",
   "language": "python",
   "name": "python3"
  },
  "language_info": {
   "codemirror_mode": {
    "name": "ipython",
    "version": 3
   },
   "file_extension": ".py",
   "mimetype": "text/x-python",
   "name": "python",
   "nbconvert_exporter": "python",
   "pygments_lexer": "ipython3",
   "version": "3.11.3"
  }
 },
 "nbformat": 4,
 "nbformat_minor": 5
}
